{
 "cells": [
  {
   "cell_type": "markdown",
   "id": "069d83ce",
   "metadata": {},
   "source": [
    "### Stack\n",
    "Push(enter data) pop(take out)  LIFO(Last In First Out process)"
   ]
  },
  {
   "cell_type": "code",
   "execution_count": 2,
   "id": "5cc3c8d8",
   "metadata": {},
   "outputs": [
    {
     "data": {
      "text/plain": [
       "[10, 20, 30]"
      ]
     },
     "execution_count": 2,
     "metadata": {},
     "output_type": "execute_result"
    }
   ],
   "source": [
    "list1 = []\n",
    "list1.append(10)\n",
    "list1.append(20)\n",
    "list1.append(30)\n",
    "list1\n"
   ]
  },
  {
   "cell_type": "code",
   "execution_count": 3,
   "id": "d750a5cf",
   "metadata": {},
   "outputs": [
    {
     "data": {
      "text/plain": [
       "30"
      ]
     },
     "execution_count": 3,
     "metadata": {},
     "output_type": "execute_result"
    }
   ],
   "source": [
    "list1.pop()"
   ]
  },
  {
   "cell_type": "code",
   "execution_count": 1,
   "id": "34dffe79",
   "metadata": {},
   "outputs": [],
   "source": [
    "stack = []\n",
    "def push():\n",
    "    if (stack == n):\n",
    "        print(\"stack is full\")\n",
    "    else:\n",
    "        element = int(input(\"Enter element\"))\n",
    "        stack.append(element)\n",
    "        print(stack)\n",
    "def pop_elements():\n",
    "    if not stack:\n",
    "        print(\"Stack is empty\")\n",
    "    else:\n",
    "        e = stack.pop()\n",
    "        print(\"Removed elements\",e)\n",
    "        print(stack)\n",
    "        \n",
    "n = int(input(\"Enter limit :\"))\n",
    "while True:\n",
    "    print(\"Select the operation 1.push  2.pop  3.Quite\")\n",
    "    choice = int(input(\"Enter Your choice : \"))\n",
    "    if choice == 1:\n",
    "        push()\n",
    "    elif choice == 2:\n",
    "        pop_elements()\n",
    "    elif choice == 3:\n",
    "        break\n",
    "    else:\n",
    "        print (\"Enter correct choice\")\n",
    "        "
   ]
  },
  {
   "cell_type": "code",
   "execution_count": 1,
   "id": "85285a5a",
   "metadata": {},
   "outputs": [
    {
     "data": {
      "text/plain": [
       "deque([34, 22])"
      ]
     },
     "execution_count": 1,
     "metadata": {},
     "output_type": "execute_result"
    }
   ],
   "source": [
    "import collections\n",
    "stack = collections.deque()\n",
    "stack.append(34)\n",
    "stack.append(22)\n",
    "stack\n"
   ]
  },
  {
   "cell_type": "code",
   "execution_count": 13,
   "id": "02c21974",
   "metadata": {},
   "outputs": [
    {
     "data": {
      "text/plain": [
       "['__class__',\n",
       " '__delattr__',\n",
       " '__dict__',\n",
       " '__dir__',\n",
       " '__doc__',\n",
       " '__eq__',\n",
       " '__format__',\n",
       " '__ge__',\n",
       " '__getattribute__',\n",
       " '__gt__',\n",
       " '__hash__',\n",
       " '__init__',\n",
       " '__init_subclass__',\n",
       " '__le__',\n",
       " '__lt__',\n",
       " '__module__',\n",
       " '__ne__',\n",
       " '__new__',\n",
       " '__reduce__',\n",
       " '__reduce_ex__',\n",
       " '__repr__',\n",
       " '__setattr__',\n",
       " '__sizeof__',\n",
       " '__str__',\n",
       " '__subclasshook__',\n",
       " '__weakref__']"
      ]
     },
     "execution_count": 13,
     "metadata": {},
     "output_type": "execute_result"
    }
   ],
   "source": [
    "dir(stack)"
   ]
  },
  {
   "cell_type": "code",
   "execution_count": 6,
   "id": "1a24c1d0",
   "metadata": {},
   "outputs": [
    {
     "data": {
      "text/plain": [
       "1"
      ]
     },
     "execution_count": 6,
     "metadata": {},
     "output_type": "execute_result"
    }
   ],
   "source": [
    "from collections import deque\n",
    "class stack1:\n",
    "    def __init__(self):\n",
    "        self.container = deque()\n",
    "    def push(self, val):\n",
    "        return self.container.append(val)\n",
    "    def pop(self):\n",
    "        return self.container.pop()\n",
    "    def is_empty(self):\n",
    "        return len(self.container)== 0\n",
    "    def size(self):\n",
    "        return len(self.container)\n",
    "    def peek(self):\n",
    "        return self.container[-1]\n",
    "    def reverse(self,data):\n",
    "        return self.container.reverse(data)\n",
    "    \n",
    "s = stack1()\n",
    "s.push(10)\n",
    "s.push(20)\n",
    "s.pop()\n",
    "s.peek()\n",
    "s.is_empty()\n",
    "s.size()\n",
    "\n",
    "\n",
    "    "
   ]
  },
  {
   "cell_type": "code",
   "execution_count": 42,
   "id": "3a67ef36",
   "metadata": {
    "scrolled": true
   },
   "outputs": [
    {
     "name": "stdout",
     "output_type": "stream",
     "text": [
      "deque(['Mon', 'Tue', 'Wed'])\n"
     ]
    }
   ],
   "source": [
    "import collections\n",
    "# Create a deque\n",
    "DoubleEnded = collections.deque([\"Mon\",\"Tue\",\"Wed\"])\n",
    "print (DoubleEnded)"
   ]
  },
  {
   "cell_type": "code",
   "execution_count": 43,
   "id": "7af292b2",
   "metadata": {},
   "outputs": [
    {
     "name": "stdout",
     "output_type": "stream",
     "text": [
      "Adding to the right: \n",
      "deque(['Mon', 'Tue', 'Wed', 'Thu'])\n",
      "Adding to the left: \n",
      "deque(['Sun', 'Mon', 'Tue', 'Wed', 'Thu'])\n",
      "Removing from the right: \n",
      "deque(['Sun', 'Mon', 'Tue', 'Wed'])\n",
      "Removing from the left: \n",
      "deque(['Mon', 'Tue', 'Wed'])\n",
      "Reversing the deque: \n",
      "deque(['Wed', 'Tue', 'Mon'])\n"
     ]
    }
   ],
   "source": [
    "print(\"Adding to the right: \")\n",
    "DoubleEnded.append(\"Thu\")\n",
    "print (DoubleEnded)\n",
    "\n",
    "# append to the left\n",
    "print(\"Adding to the left: \")\n",
    "DoubleEnded.appendleft(\"Sun\")\n",
    "print (DoubleEnded)\n",
    "\n",
    "# Remove from the right\n",
    "print(\"Removing from the right: \")\n",
    "DoubleEnded.pop()\n",
    "print (DoubleEnded)\n",
    "\n",
    "# Remove from the left\n",
    "print(\"Removing from the left: \")\n",
    "DoubleEnded.popleft()\n",
    "print (DoubleEnded)\n",
    "\n",
    "# Reverse the dequeue\n",
    "print(\"Reversing the deque: \")\n",
    "DoubleEnded.reverse()\n",
    "print (DoubleEnded)"
   ]
  },
  {
   "cell_type": "markdown",
   "id": "f4b18104",
   "metadata": {},
   "source": [
    "## Queue\n",
    "LILO, FIFO, Linear data, Enqueue: adding element, dequeue: remove element,pop\n"
   ]
  },
  {
   "cell_type": "code",
   "execution_count": 7,
   "id": "b4cb9ffd",
   "metadata": {},
   "outputs": [
    {
     "data": {
      "text/plain": [
       "[10, 20, 30]"
      ]
     },
     "execution_count": 7,
     "metadata": {},
     "output_type": "execute_result"
    }
   ],
   "source": [
    "queue = []\n",
    "queue.append(10)\n",
    "queue.append(20)\n",
    "queue.append(30)\n",
    "queue"
   ]
  },
  {
   "cell_type": "code",
   "execution_count": 8,
   "id": "e7ab5ec8",
   "metadata": {},
   "outputs": [
    {
     "data": {
      "text/plain": [
       "10"
      ]
     },
     "execution_count": 8,
     "metadata": {},
     "output_type": "execute_result"
    }
   ],
   "source": [
    "queue.pop(0)"
   ]
  },
  {
   "cell_type": "code",
   "execution_count": 11,
   "id": "5fd015d5",
   "metadata": {},
   "outputs": [],
   "source": [
    "que = []\n",
    "def enqueue():\n",
    "    if (que == n):\n",
    "        print(\"limit is full\")\n",
    "    else:\n",
    "        element = input(\"Enter element\")\n",
    "        que.append(element)\n",
    "        print(que ,\"elemnt is added\")\n",
    "def dequeue():\n",
    "    if not que:\n",
    "        print(\"que is empty\")\n",
    "    else:\n",
    "        e = que.pop(0)\n",
    "        print(\"Removed elements\",e)\n",
    "        \n",
    "def display():\n",
    "    print(que)\n",
    "n = int(input(\"Enter limit data: \"))   \n",
    "while True:\n",
    "    print(\"Select the operation 1.add  2.remove 3.show  4.Quite\")\n",
    "    choice = int(input())\n",
    "    if choice == 1:\n",
    "        enqueue()\n",
    "    elif choice == 2:\n",
    "        dequeue()\n",
    "    elif choice == 3:\n",
    "        display()\n",
    "    elif choice == 4:\n",
    "        break\n",
    "    else:\n",
    "        print (\"Enter correct choice\")\n",
    "        "
   ]
  },
  {
   "cell_type": "markdown",
   "id": "9c95b791",
   "metadata": {},
   "source": [
    "### Priority\n",
    "High and Low with sorting\n"
   ]
  },
  {
   "cell_type": "code",
   "execution_count": 2,
   "id": "38f8c04b",
   "metadata": {},
   "outputs": [
    {
     "data": {
      "text/plain": [
       "[10, 30, 50]"
      ]
     },
     "execution_count": 2,
     "metadata": {},
     "output_type": "execute_result"
    }
   ],
   "source": [
    "q = []\n",
    "q.append(10)\n",
    "q.append(50)\n",
    "q.append(30)\n",
    "q.sort()\n",
    "q\n"
   ]
  },
  {
   "cell_type": "code",
   "execution_count": 4,
   "id": "894820e1",
   "metadata": {},
   "outputs": [
    {
     "data": {
      "text/plain": [
       "30"
      ]
     },
     "execution_count": 4,
     "metadata": {},
     "output_type": "execute_result"
    }
   ],
   "source": [
    "q.pop(0)"
   ]
  },
  {
   "cell_type": "code",
   "execution_count": null,
   "id": "424b81b5",
   "metadata": {},
   "outputs": [
    {
     "data": {
      "text/plain": [
       "<queue.PriorityQueue at 0x1f8b9040550>"
      ]
     },
     "execution_count": 7,
     "metadata": {},
     "output_type": "execute_result"
    }
   ],
   "source": [
    "import queue\n",
    "qu = queue.PriorityQueue()\n",
    "qu.put(10)\n",
    "qu.put(40)\n",
    "qu.put(60)\n",
    "qu\n"
   ]
  },
  {
   "cell_type": "code",
   "execution_count": null,
   "id": "0e0abb83",
   "metadata": {},
   "outputs": [
    {
     "data": {
      "text/plain": [
       "40"
      ]
     },
     "execution_count": 10,
     "metadata": {},
     "output_type": "execute_result"
    }
   ],
   "source": [
    "qu.get()"
   ]
  },
  {
   "cell_type": "code",
   "execution_count": 12,
   "id": "58f758d5",
   "metadata": {},
   "outputs": [
    {
     "data": {
      "text/plain": [
       "[(2, 'Tay'), (1, 'Tay')]"
      ]
     },
     "execution_count": 12,
     "metadata": {},
     "output_type": "execute_result"
    }
   ],
   "source": [
    "que = []\n",
    "que.append((1,\"Tay\"))\n",
    "que.append((2,\"Tay\"))\n",
    "que.sort(reverse = True)\n",
    "que"
   ]
  }
 ],
 "metadata": {
  "kernelspec": {
   "display_name": "Python 3.9.7 ('base')",
   "language": "python",
   "name": "python3"
  },
  "language_info": {
   "codemirror_mode": {
    "name": "ipython",
    "version": 3
   },
   "file_extension": ".py",
   "mimetype": "text/x-python",
   "name": "python",
   "nbconvert_exporter": "python",
   "pygments_lexer": "ipython3",
   "version": "3.9.7"
  },
  "vscode": {
   "interpreter": {
    "hash": "a9ed8e5a76c16332dbeb9639b6e9f50daa2cbb7fd26fcd3e6c593e25ab6eb0cb"
   }
  }
 },
 "nbformat": 4,
 "nbformat_minor": 5
}
